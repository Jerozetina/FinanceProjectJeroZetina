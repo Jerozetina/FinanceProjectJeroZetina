{
 "cells": [
  {
   "cell_type": "markdown",
   "id": "0d85a47c",
   "metadata": {},
   "source": [
    "<img style=\"float: left; margin: 30px 15px 15px 15px;\" src=\"https://oci02.img.iteso.mx/Identidades-De-Instancia/ITESO/Logos%20ITESO/Logo-ITESO-Principal.jpg\" width=\"400\" height=\"600\" /> \n",
    "    \n",
    "    \n",
    "#### <font color='navy'> Project. Risk Management.\n",
    "    "
   ]
  },
  {
   "cell_type": "markdown",
   "id": "b648e059",
   "metadata": {},
   "source": [
    "### Objectives.\n",
    "\n",
    "> Carry out a project that helps a committee to make an investment decision, correctly selecting for a niche of investors *x* amount of financial assets, in addition to optimize and simulate the behavior of portfolios, selecting the most appropriate strategy. Subsequently analyze the risks (market, operational and liquidity) of the selected portfolio.\n",
    "\n",
    "### Project Definition.\n",
    "\n",
    "The project will consist of the following seven parts, which have a specific weighting and will be defined at a later date. \n",
    "\n",
    "|                           | Weighting |\n",
    "|---------------------------|-------------|\n",
    "| 1. Asset Selection   | 20%         |\n",
    "| 2 - 3. Data, Optimization and Evolution.     | 20%         |\n",
    "| 4 - 5. Performance and Selection Metrics | 15%         |\n",
    "| 6. Risks                 | 30%         |\n",
    "| 7. Presentation          | 15%         |\n",
    "\n",
    "\n"
   ]
  },
  {
   "cell_type": "code",
   "execution_count": 6,
   "id": "770297f8",
   "metadata": {},
   "outputs": [],
   "source": [
    "# Import Libraries\n",
    "import numpy as np\n",
    "import pandas as pd\n",
    "import yfinance as yf\n",
    "import datetime\n",
    "\n",
    "import matplotlib.pyplot as plt"
   ]
  },
  {
   "cell_type": "code",
   "execution_count": 7,
   "id": "b3b9b856",
   "metadata": {},
   "outputs": [],
   "source": [
    "# Download a price on a given date\n",
    "def get_historical_price(ticker: str, start: str):\n",
    "    end = start+datetime.timedelta(days=4)\n",
    "    price=pd.DataFrame(yf.Ticker(ticker).history(start=start, end=end)[\"Close\"])\n",
    "    return price.iloc[0, 0]"
   ]
  },
  {
   "cell_type": "code",
   "execution_count": 8,
   "id": "8b1db884",
   "metadata": {},
   "outputs": [],
   "source": [
    "def get_historical_financial(t:str):\n",
    "    ticker = yf.Ticker(t)\n",
    "    balance = ticker.balance_sheet\n",
    "    estado = ticker.income_stmt\n",
    "    \n",
    "    return balance, estado"
   ]
  },
  {
   "cell_type": "markdown",
   "id": "056c3f7a",
   "metadata": {},
   "source": [
    "## <font color = \"navy\"> Part 1. Asset Selection <font color = \"black\">\n",
    "\n",
    "+ Select 4 to 6 publicly traded financial assets, feel free to use ETF's or stocks.  \n",
    "\n",
    "\n",
    "+ Justify the selection of each of the assets with financial metrics, with Fundamental Analysis (PER, EPS, EBITDA, Beta). In this part you have to justify the selection in the best possible way, including everything we should know about the instrument, i.e. do a research about the characteristics of the companies, expectations, future plans.\n"
   ]
  },
  {
   "cell_type": "markdown",
   "id": "276c203d",
   "metadata": {},
   "source": [
    "### Selected Assets:\n",
    "- **_`Activo 1 - EQT`_**.\n",
    "- **_`Activo 2 - CFG`_**.\n",
    "- **_`Activo 3 - MOS`_**.\n",
    "- **_`Activo 4 - T`_**."
   ]
  },
  {
   "cell_type": "markdown",
   "id": "d4968796",
   "metadata": {},
   "source": [
    "#  <font color = \"navy\">  Part 2. Data Collection <font color = \"black\">\n",
    "\n",
    "+ Download from **FactSet** or **Yahoo Finance API** the adjusted closing price and volume of the selected assets.     \n",
    "    \n",
    "    \n",
    "+ Calculate the returns of your assets with the adjusted closing price.\n",
    "    \n",
    "\n",
    "+ Present the prices, volume and returns in a DataFrame. Download them from `01-01-2021` to `today`.\n",
    "\n",
    "\n",
    "**Expected Products**: Data Frame with the prices, volume and yields of the selected assets.\n",
    "\n"
   ]
  },
  {
   "cell_type": "code",
   "execution_count": 9,
   "id": "f62b0193",
   "metadata": {},
   "outputs": [],
   "source": [
    "tickers = [\"EQT\",\"CFG\",\"MOS\",\"T\"]"
   ]
  },
  {
   "cell_type": "code",
   "execution_count": 10,
   "id": "21dccf25",
   "metadata": {},
   "outputs": [
    {
     "name": "stderr",
     "output_type": "stream",
     "text": [
      "[*********************100%***********************]  4 of 4 completed\n"
     ]
    },
    {
     "ename": "KeyError",
     "evalue": "\"['Adj Close'] not in index\"",
     "output_type": "error",
     "traceback": [
      "\u001b[1;31m---------------------------------------------------------------------------\u001b[0m",
      "\u001b[1;31mKeyError\u001b[0m                                  Traceback (most recent call last)",
      "Cell \u001b[1;32mIn[10], line 1\u001b[0m\n\u001b[1;32m----> 1\u001b[0m data\u001b[38;5;241m=\u001b[39myf\u001b[38;5;241m.\u001b[39mdownload(tickers, start\u001b[38;5;241m=\u001b[39m\u001b[38;5;124m\"\u001b[39m\u001b[38;5;124m2021-01-01\u001b[39m\u001b[38;5;124m\"\u001b[39m, end\u001b[38;5;241m=\u001b[39m\u001b[38;5;124m\"\u001b[39m\u001b[38;5;124m2024-02-29\u001b[39m\u001b[38;5;124m\"\u001b[39m)[[\u001b[38;5;124m\"\u001b[39m\u001b[38;5;124mAdj Close\u001b[39m\u001b[38;5;124m\"\u001b[39m, \u001b[38;5;124m\"\u001b[39m\u001b[38;5;124mVolume\u001b[39m\u001b[38;5;124m\"\u001b[39m]]\n\u001b[0;32m      2\u001b[0m \u001b[38;5;66;03m#data=data[tickers]\u001b[39;00m\n\u001b[0;32m      3\u001b[0m data\u001b[38;5;241m.\u001b[39mhead()\n",
      "File \u001b[1;32m~\\AppData\\Local\\anaconda3\\Lib\\site-packages\\pandas\\core\\frame.py:4108\u001b[0m, in \u001b[0;36mDataFrame.__getitem__\u001b[1;34m(self, key)\u001b[0m\n\u001b[0;32m   4106\u001b[0m     \u001b[38;5;28;01mif\u001b[39;00m is_iterator(key):\n\u001b[0;32m   4107\u001b[0m         key \u001b[38;5;241m=\u001b[39m \u001b[38;5;28mlist\u001b[39m(key)\n\u001b[1;32m-> 4108\u001b[0m     indexer \u001b[38;5;241m=\u001b[39m \u001b[38;5;28mself\u001b[39m\u001b[38;5;241m.\u001b[39mcolumns\u001b[38;5;241m.\u001b[39m_get_indexer_strict(key, \u001b[38;5;124m\"\u001b[39m\u001b[38;5;124mcolumns\u001b[39m\u001b[38;5;124m\"\u001b[39m)[\u001b[38;5;241m1\u001b[39m]\n\u001b[0;32m   4110\u001b[0m \u001b[38;5;66;03m# take() does not accept boolean indexers\u001b[39;00m\n\u001b[0;32m   4111\u001b[0m \u001b[38;5;28;01mif\u001b[39;00m \u001b[38;5;28mgetattr\u001b[39m(indexer, \u001b[38;5;124m\"\u001b[39m\u001b[38;5;124mdtype\u001b[39m\u001b[38;5;124m\"\u001b[39m, \u001b[38;5;28;01mNone\u001b[39;00m) \u001b[38;5;241m==\u001b[39m \u001b[38;5;28mbool\u001b[39m:\n",
      "File \u001b[1;32m~\\AppData\\Local\\anaconda3\\Lib\\site-packages\\pandas\\core\\indexes\\multi.py:2763\u001b[0m, in \u001b[0;36mMultiIndex._get_indexer_strict\u001b[1;34m(self, key, axis_name)\u001b[0m\n\u001b[0;32m   2760\u001b[0m \u001b[38;5;28;01mif\u001b[39;00m \u001b[38;5;28mlen\u001b[39m(keyarr) \u001b[38;5;129;01mand\u001b[39;00m \u001b[38;5;129;01mnot\u001b[39;00m \u001b[38;5;28misinstance\u001b[39m(keyarr[\u001b[38;5;241m0\u001b[39m], \u001b[38;5;28mtuple\u001b[39m):\n\u001b[0;32m   2761\u001b[0m     indexer \u001b[38;5;241m=\u001b[39m \u001b[38;5;28mself\u001b[39m\u001b[38;5;241m.\u001b[39m_get_indexer_level_0(keyarr)\n\u001b[1;32m-> 2763\u001b[0m     \u001b[38;5;28mself\u001b[39m\u001b[38;5;241m.\u001b[39m_raise_if_missing(key, indexer, axis_name)\n\u001b[0;32m   2764\u001b[0m     \u001b[38;5;28;01mreturn\u001b[39;00m \u001b[38;5;28mself\u001b[39m[indexer], indexer\n\u001b[0;32m   2766\u001b[0m \u001b[38;5;28;01mreturn\u001b[39;00m \u001b[38;5;28msuper\u001b[39m()\u001b[38;5;241m.\u001b[39m_get_indexer_strict(key, axis_name)\n",
      "File \u001b[1;32m~\\AppData\\Local\\anaconda3\\Lib\\site-packages\\pandas\\core\\indexes\\multi.py:2781\u001b[0m, in \u001b[0;36mMultiIndex._raise_if_missing\u001b[1;34m(self, key, indexer, axis_name)\u001b[0m\n\u001b[0;32m   2779\u001b[0m cmask \u001b[38;5;241m=\u001b[39m check \u001b[38;5;241m==\u001b[39m \u001b[38;5;241m-\u001b[39m\u001b[38;5;241m1\u001b[39m\n\u001b[0;32m   2780\u001b[0m \u001b[38;5;28;01mif\u001b[39;00m cmask\u001b[38;5;241m.\u001b[39many():\n\u001b[1;32m-> 2781\u001b[0m     \u001b[38;5;28;01mraise\u001b[39;00m \u001b[38;5;167;01mKeyError\u001b[39;00m(\u001b[38;5;124mf\u001b[39m\u001b[38;5;124m\"\u001b[39m\u001b[38;5;132;01m{\u001b[39;00mkeyarr[cmask]\u001b[38;5;132;01m}\u001b[39;00m\u001b[38;5;124m not in index\u001b[39m\u001b[38;5;124m\"\u001b[39m)\n\u001b[0;32m   2782\u001b[0m \u001b[38;5;66;03m# We get here when levels still contain values which are not\u001b[39;00m\n\u001b[0;32m   2783\u001b[0m \u001b[38;5;66;03m# actually in Index anymore\u001b[39;00m\n\u001b[0;32m   2784\u001b[0m \u001b[38;5;28;01mraise\u001b[39;00m \u001b[38;5;167;01mKeyError\u001b[39;00m(\u001b[38;5;124mf\u001b[39m\u001b[38;5;124m\"\u001b[39m\u001b[38;5;132;01m{\u001b[39;00mkeyarr\u001b[38;5;132;01m}\u001b[39;00m\u001b[38;5;124m not in index\u001b[39m\u001b[38;5;124m\"\u001b[39m)\n",
      "\u001b[1;31mKeyError\u001b[0m: \"['Adj Close'] not in index\""
     ]
    }
   ],
   "source": [
    "data=yf.download(tickers, start=\"2021-01-01\", end=\"2024-02-29\")[[\"Adj Close\", \"Volume\"]]\n",
    "#data=data[tickers]\n",
    "data.head()"
   ]
  },
  {
   "cell_type": "code",
   "execution_count": null,
   "id": "bc9075c2",
   "metadata": {},
   "outputs": [],
   "source": [
    "rends = data[\"Adj Close\"].pct_change().dropna()\n",
    "df = pd.concat([data, rends], axis=1)\n",
    "df.head()"
   ]
  },
  {
   "cell_type": "markdown",
   "id": "2239c86a",
   "metadata": {},
   "source": [
    "## <font color = “navy”> Part 3. Portfolio Optimization and Evolution. <font color = “black”>\n",
    "\n",
    "+ With the returns obtained in the previous part, obtain the efficient weightings in maximum sharpe, semi-variance, omega and minimum VaR, using as optimization window from `01-01-2021` to `31-06-2023`.\n",
    "    \n",
    "    \n",
    "+ With the weights obtained in the previous part, simulate the behavior of all the efficient portfolios (evolution of the money) for the subsequent period (`01-07-2023` to today) and plot all the evolutions within the same graph. Assume an initial capital of $1,000,000 USD.   \n",
    "\n",
    "\n",
    "+ Within the graph, add the performance of a 100% passive investment strategy invested in the selected Benchmark.\n",
    "    \n",
    "\n",
    "**Expected Products**: Data Frame with optimal weightings of all methods. Two Data Frames, one with the performance of your portfolios and the other with the evolution of the value of your portfolios. Plot the evolution of portfolios."
   ]
  },
  {
   "cell_type": "code",
   "execution_count": null,
   "id": "3214bd76",
   "metadata": {},
   "outputs": [],
   "source": [
    "benchmark = [\"^GSPC\"]\n",
    "benchmark=yf.download(benchmark, start=\"2021-01-01\", end=\"2023-06-30\")[\"Adj Close\"]\n",
    "data_stocks =yf.download(tickers, start=\"2021-01-01\", end=\"2023-06-30\")[\"Adj Close\"]\n",
    "\n",
    "rets_stocks=data_stocks.pct_change().dropna()\n",
    "rets_benchmark=benchmark.pct_change().dropna()"
   ]
  },
  {
   "cell_type": "markdown",
   "id": "2a0c7d8b",
   "metadata": {},
   "source": [
    "### Máximo de Sharp"
   ]
  },
  {
   "cell_type": "code",
   "execution_count": null,
   "id": "fd4dcf2b",
   "metadata": {},
   "outputs": [],
   "source": [
    "def max_sharpe(rends:pd.DataFrame, rf:float, n_sims:int):\n",
    "    \n",
    "    expected_return=rends.mean()\n",
    "    cov = rends.cov()\n",
    "    n_stocks = len(rends.columns)\n",
    "    w, sharpe = [], []\n",
    "    \n",
    "    for _ in range(n_sims):\n",
    "        \n",
    "        temp_w = np.random.uniform(0,1,n_stocks)\n",
    "        temp_w = temp_w/np.sum(temp_w)\n",
    "        \n",
    "        ret= np.dot(temp_w, expected_return)\n",
    "        vol=np.sqrt(temp_w.reshape(1,-1) @ cov @ temp_w)     \n",
    "        \n",
    "        temp_sharpe= (ret - rf)/vol\n",
    "        \n",
    "        w.append(temp_w)\n",
    "        sharpe.append(temp_sharpe)\n",
    "        \n",
    "        return w[np.argmax(sharpe)] , np.max(sharpe)\n",
    "      "
   ]
  },
  {
   "cell_type": "markdown",
   "id": "3b7ab01d",
   "metadata": {},
   "source": [
    "### Semivarianza"
   ]
  },
  {
   "cell_type": "code",
   "execution_count": null,
   "id": "11d55f7d",
   "metadata": {},
   "outputs": [],
   "source": [
    "def semivar (rets_data, rets_benchmark,n):\n",
    "    \n",
    "    n_stocks=len(rets_data.columns)\n",
    "    diffs=pd.DataFrame()\n",
    "    w,sharpe = [], []\n",
    "    for col in rets_data.columns:\n",
    "        diffs[f'{col}_Diff Rend'] = rets_data[col] - rets_benchmark.values\n",
    "            \n",
    "    \n",
    "    minus=diffs[diffs<0].fillna(0)\n",
    "    \n",
    "    downside_risk = minus.std()\n",
    "    \n",
    "    matriz_correlacion = rets_data.corr()\n",
    "    \n",
    "    value_dr = downside_risk.values\n",
    "\n",
    "    value_dr_matriz = np.atleast_2d(value_dr)\n",
    "\n",
    "    resultado = np.dot(value_dr_matriz.T, value_dr_matriz)\n",
    "    \n",
    "    m_semi = matriz_correlacion * resultado\n",
    "    \n",
    "    \n",
    "    for _ in range(n):\n",
    "         \n",
    "        temp_w = np.random.uniform(0,1,n_stocks)\n",
    "        temp_w = temp_w/np.sum(temp_w) \n",
    "        \n",
    "        \n",
    "        semiv = np.dot(m_semi, temp_w)\n",
    "        final = np.dot(temp_w.T, semiv)\n",
    "        \n",
    "        w.append(temp_w)\n",
    "        sharpe.append(final)\n",
    "        \n",
    "        return w[np.argmin(sharpe)] , np.min(sharpe)\n"
   ]
  },
  {
   "cell_type": "markdown",
   "id": "298af35a",
   "metadata": {},
   "source": [
    "### Omega"
   ]
  },
  {
   "cell_type": "code",
   "execution_count": null,
   "id": "cd6d0b7b",
   "metadata": {},
   "outputs": [],
   "source": [
    "def omega (rets_data, rets_benchmark,n):\n",
    "    \n",
    "    n_stocks=len(rets_data.columns)\n",
    "    diffs=pd.DataFrame()\n",
    "    w,om = [], []\n",
    "    for col in rets_data.columns:\n",
    "        diffs[f'{col}_Diff Rend'] = rets_data[col] - rets_benchmark.values\n",
    "            \n",
    "    \n",
    "    minus=diffs[diffs<0].fillna(0)\n",
    "    upper=diffs[diffs>0].fillna(0)\n",
    "    \n",
    "    downside_risk = minus.std()\n",
    "    upside_risk = upper.std()\n",
    "    \n",
    "    omega = upside_risk/downside_risk\n",
    "    \n",
    "    for _ in range(n):\n",
    "    \n",
    "        temp_w = np.random.uniform(0,1,n_stocks)\n",
    "        temp_w = temp_w/np.sum(temp_w) \n",
    "\n",
    "        omega_final = omega.T @ temp_w\n",
    "        \n",
    "        w.append(temp_w)\n",
    "        om.append(omega_final)\n",
    "    \n",
    "    return  w[np.argmax(om)] , np.max(om)"
   ]
  },
  {
   "cell_type": "markdown",
   "id": "33c31ed4",
   "metadata": {},
   "source": [
    "### Min VaR"
   ]
  },
  {
   "cell_type": "code",
   "execution_count": null,
   "id": "becf49b1",
   "metadata": {},
   "outputs": [],
   "source": [
    "def min_var(rets_data, rets_benchmark, conf, n):\n",
    "    \n",
    "    n_stocks=len(rets_data.columns)\n",
    "    diffs=pd.DataFrame()\n",
    "    w, variances = [], []\n",
    "    for col in rets_data.columns:\n",
    "        diffs[f'{col}_Diff Rend'] = rets_data[col] - rets_benchmark.values    \n",
    "    \n",
    "    for _ in range(n):\n",
    "        temp_w = np.random.uniform(0, 1, n_stocks)\n",
    "        temp_w /= np.sum(temp_w)\n",
    "\n",
    "        var = np.percentile(rets_data,100-conf*100)\n",
    "\n",
    "        w.append(temp_w)\n",
    "        variances.append(var)\n",
    "\n",
    "    min_var_index = np.argmin(variances)\n",
    "    min_var_portfolio = w[min_var_index]\n",
    "\n",
    "    return min_var_portfolio, variances[min_var_index]"
   ]
  },
  {
   "cell_type": "code",
   "execution_count": null,
   "id": "59808bb5",
   "metadata": {},
   "outputs": [],
   "source": [
    "optimal_sharpe_weights = max_sharpe(rets_stocks, 0.05/252, 10000) [0]\n",
    "w_semivar = semivar(rets_stocks, rets_benchmark,100000)[0]\n",
    "w_omega = omega(rets_stocks, rets_benchmark,10000)[0]\n",
    "pesos_min_var = min_var(rets_stocks,rets_benchmark,0.99,10000)[0]"
   ]
  },
  {
   "cell_type": "code",
   "execution_count": null,
   "id": "343e6706",
   "metadata": {},
   "outputs": [],
   "source": [
    "optimal_sharpe_weights = [0.351639,0.142512, 0.037133, 0.468716]\n",
    "w_semivar = [0.403434,0.211918,0.004712,0.379936]\n",
    "w_omega = [0.081467, 0.027836, 0.874609,0.016088]\n",
    "pesos_min_var = [0.448649, 0.040244, 0.464946,0.046161] "
   ]
  },
  {
   "cell_type": "markdown",
   "id": "859cbbc3",
   "metadata": {},
   "source": [
    "### Optimal method weights"
   ]
  },
  {
   "cell_type": "code",
   "execution_count": null,
   "id": "4684ff0d",
   "metadata": {},
   "outputs": [],
   "source": [
    "df_weights = pd.DataFrame({\n",
    "    'Sharp': optimal_sharpe_weights,\n",
    "    'Semivar': w_semivar,\n",
    "    'Omega': w_omega,\n",
    "    'Min Var': pesos_min_var\n",
    "})\n",
    "df_weights"
   ]
  },
  {
   "cell_type": "code",
   "execution_count": null,
   "id": "d7bc7714",
   "metadata": {},
   "outputs": [],
   "source": [
    "benchmark = \"^GSPC\"\n",
    "df_filtrado = df.loc[df.index > '2023-07-01']\n",
    "df_rts = df_filtrado.iloc[:,-len(tickers):]\n",
    "ret_bench=yf.download(benchmark, start='2023-07-01', end=\"2024-02-29\")[\"Adj Close\"]\n",
    "ret_bench=ret_bench.pct_change().fillna(0)\n",
    "df_bench = pd.DataFrame(ret_bench)"
   ]
  },
  {
   "cell_type": "code",
   "execution_count": null,
   "id": "7f228748",
   "metadata": {},
   "outputs": [],
   "source": [
    "cap_inicial = 1000000\n",
    "port_value = [cap_inicial]\n",
    "port_rets = [0]\n",
    "n = len(df_rts)\n",
    "weights = [optimal_sharpe_weights,w_semivar, w_omega,pesos_min_var]\n",
    "names = [\"Radio Sharpe\", \"Semivar\", \"Omega\", \"Min VaR\"]\n",
    "num_ports = len(weights)"
   ]
  },
  {
   "cell_type": "code",
   "execution_count": null,
   "id": "9bae6e3c",
   "metadata": {},
   "outputs": [],
   "source": [
    "df_portfolios = pd.DataFrame(index=df_rts.index)\n",
    "\n",
    "for names, w in zip(names, weights):\n",
    "    port_rets = [0]\n",
    "    port_value = [cap_inicial]\n",
    "      \n",
    "    for j in range(1, n):\n",
    "        prev_port_val = port_value[j-1]\n",
    "        port_ret = np.sum(w * df_rts.iloc[j])\n",
    "        portfolio_value_i = prev_port_val * (1 + port_ret)\n",
    "\n",
    "        port_rets.append(port_ret)\n",
    "        port_value.append(portfolio_value_i)\n",
    "\n",
    "    df_portfolios[f'Returns_{names}'] = port_rets\n",
    "    df_portfolios[f'Portfolio_Value_{names}'] = port_value\n",
    "\n",
    "df_portfolios.tail(3)"
   ]
  },
  {
   "cell_type": "code",
   "execution_count": null,
   "id": "1d9325af",
   "metadata": {},
   "outputs": [],
   "source": [
    "n_bench= len(ret_bench)\n",
    "cap_inicial = 1000000\n",
    "port_value = [cap_inicial]\n",
    "port_rets = [0]\n",
    "for i in range (1,n_bench):\n",
    "    prev_port_val = port_value[i-1]\n",
    "    port_ret = np.sum(1 * df_bench.iloc[i])\n",
    "    \n",
    "    portfolio_value_i = prev_port_val * (1 + port_ret)\n",
    "\n",
    "    port_rets.append(port_ret)\n",
    "    port_value.append(portfolio_value_i)\n",
    "    \n",
    "df_port_bench = pd.DataFrame({'Returns': port_rets, 'Portfolio_Value_Benchmark': port_value}, index=df_rts.index)\n",
    "#df_port_bench"
   ]
  },
  {
   "cell_type": "markdown",
   "id": "a6a4cebb",
   "metadata": {},
   "source": [
    "### Portfolio Graphics"
   ]
  },
  {
   "cell_type": "code",
   "execution_count": null,
   "id": "9d0e7206",
   "metadata": {},
   "outputs": [],
   "source": [
    "df_portfolios = pd.concat([df_portfolios, df_port_bench], axis=1)"
   ]
  },
  {
   "cell_type": "code",
   "execution_count": null,
   "id": "964166ca",
   "metadata": {},
   "outputs": [],
   "source": [
    "df_portfolios.tail()"
   ]
  },
  {
   "cell_type": "code",
   "execution_count": null,
   "id": "43a70c83",
   "metadata": {},
   "outputs": [],
   "source": [
    "plt.figure(figsize=(10, 6))\n",
    "ax = plt.subplot()\n",
    "\n",
    "for col in df_portfolios.columns:\n",
    "    if 'Portfolio_Value' in col: \n",
    "        ax.plot(df_portfolios.index.to_numpy(), df_portfolios[col].to_numpy(), label=col)\n",
    "\n",
    "ax.set_xlabel('Fecha')\n",
    "ax.set_ylabel('Valor del Portafolio')\n",
    "ax.set_title('Portafolios a lo largo del tiempo')\n",
    "plt.grid(True, linestyle='--', linewidth=0.25, color='black')\n",
    "ax.legend()\n",
    "\n",
    "plt.show()"
   ]
  },
  {
   "cell_type": "markdown",
   "id": "bf10b3b9",
   "metadata": {},
   "source": [
    "## <font color = “navy”> Part 4. Performance Metrics. <font color = “black”>\n",
    "\n",
    "+ Assemble a data frame showing the following metrics for all portfolios: Annualized Return, Annualized Volatility, Sharpe Ratio, Beta, Jensen's Alpha, and Sortino's Ratio.    \n",
    "    \n",
    "    Annualized Return** **Annualized Return** **Annualized Volatility** **Sharpe Ratio\n",
    "    * Annualized Volatility\n",
    "    * Sharpe Ratio\n",
    "    ** **Sharpe Ratio** * **Beta**\n",
    "    * Jensen's Alpha\n",
    "    * Sortino's Ratio.        \n",
    "    \n",
    "    \n",
    "+ Comment on the *insights* found in the ratios, what do the obtained results mean.     \n",
    "    \n",
    "  \n",
    "**Expected Deliverables**: Data Frame with Performance Metrics and comment on the results."
   ]
  },
  {
   "cell_type": "code",
   "execution_count": null,
   "id": "52c21daa",
   "metadata": {},
   "outputs": [],
   "source": [
    "# Annualized Profit and Volatility\n",
    "medias_returns = []\n",
    "vol_ = []\n",
    "for col  in df_portfolios.columns:\n",
    "    if \"Returns\" in col:\n",
    "        rend = df_portfolios[col].mean()*252\n",
    "        vol = df_portfolios[col].std()*252**0.5\n",
    "        \n",
    "        \n",
    "        vol_.append((col, vol))\n",
    "        medias_returns.append((col, rend))"
   ]
  },
  {
   "cell_type": "code",
   "execution_count": null,
   "id": "62fccce9",
   "metadata": {},
   "outputs": [],
   "source": [
    "# Sharpe Ratio\n",
    "tlr = 0.05/252 # Risk Free Rate\n",
    "medias_returns_dict = dict(medias_returns)\n",
    "vol_returns_dict = dict(vol_)\n",
    "medias_returns = pd.Series(medias_returns_dict)\n",
    "vol_d = pd.Series(vol_returns_dict)\n",
    "ratio = (medias_returns - tlr) / vol_d"
   ]
  },
  {
   "cell_type": "code",
   "execution_count": null,
   "id": "ae1f927f",
   "metadata": {},
   "outputs": [],
   "source": [
    "# Beta\n",
    "beta_ = []\n",
    "for col_name in df_portfolios.columns:\n",
    "    if \"Returns\" in col_name:\n",
    "        \n",
    "        col = df_portfolios[col_name]\n",
    "        col_array = col.to_numpy()\n",
    "        ret_bench_array = ret_bench.to_numpy()\n",
    "        \n",
    "        covariance = np.cov(col_array, ret_bench_array)[0][1]\n",
    "        variance_market = np.var(ret_bench_array)\n",
    "        \n",
    "        beta = covariance / variance_market\n",
    "        \n",
    "        beta_.append((col_name, beta))"
   ]
  },
  {
   "cell_type": "code",
   "execution_count": null,
   "id": "1d580485",
   "metadata": {},
   "outputs": [],
   "source": [
    "# Jensen's Measure (Alpha)\n"
   ]
  },
  {
   "cell_type": "code",
   "execution_count": null,
   "id": "76e5b9ea",
   "metadata": {},
   "outputs": [],
   "source": [
    "# Ratio Sortino"
   ]
  },
  {
   "cell_type": "code",
   "execution_count": null,
   "id": "d45a49c0",
   "metadata": {},
   "outputs": [],
   "source": [
    "medias_returns_dict = dict(medias_returns)\n",
    "vol_dict = dict(vol_)\n",
    "beta_dict = dict(beta_)\n",
    "ratio = dict(ratio)\n",
    "\n",
    "df_medias_returns = pd.DataFrame(medias_returns_dict.values(), index=medias_returns_dict.keys(), columns=['Rendimiento Anualizado'])\n",
    "df_vol = pd.DataFrame(vol_dict.values(), index=vol_dict.keys(), columns=['Volatilidad Anualizada'])\n",
    "df_beta = pd.DataFrame(beta_dict.values(), index=beta_dict.keys(), columns=['Beta'])\n",
    "df_ratio = pd.DataFrame(ratio.values(), index=ratio.keys(), columns=['Ratio Sharp'])\n",
    "\n",
    "df_combined = pd.concat([df_medias_returns, df_vol,df_beta, df_ratio], axis=1)\n",
    "\n",
    "nuevos_nombres = {'Returns_Radio Sharpe': 'Portafolio Sharp', \n",
    "                  'Returns_Semivar': 'Portafolio Semivar', \n",
    "                  'Returns_Omega': 'Porfafolio Omega', \n",
    "                  'Returns_Min VaR': 'Portafolio Min Var'}\n",
    "\n",
    "df_combined.rename(index=nuevos_nombres, inplace=True)\n",
    "\n",
    "df_combined\n"
   ]
  },
  {
   "cell_type": "markdown",
   "id": "49f02b3c",
   "metadata": {},
   "source": [
    "## Part 5. Selection of the Best Portfolio <font color = “black”> <font color = “black”>\n",
    "\n",
    "+ Based on what was discussed in section number one and the previous section. Select the “*best portfolio*” according to the investment horizon, investor profile and economic situation.    \n",
    "       \n",
    "    \n",
    "  \n",
    "**Expected Products**: Selection of the best portfolio. Graph of the selected strategy against benchmark. "
   ]
  },
  {
   "cell_type": "markdown",
   "id": "1983ad20",
   "metadata": {},
   "source": [
    "#### <font color = “green”> - Best Portfolio: SemiVar"
   ]
  },
  {
   "cell_type": "code",
   "execution_count": null,
   "id": "f71c489c",
   "metadata": {},
   "outputs": [],
   "source": [
    "plt.figure(figsize=(10, 6))\n",
    "plt.plot(df_portfolios['Portfolio_Value_Semivar'], label=' Port Semivar')\n",
    "plt.plot(df_portfolios['Portfolio_Value_Benchmark'], label='Benchmark')\n",
    "plt.xlabel('Fechas')\n",
    "plt.ylabel('Valores')\n",
    "plt.title('Mejor portafolio vs Benchmark')\n",
    "plt.grid(True, linestyle='--', linewidth=0.25, color='black')\n",
    "plt.legend()\n",
    "plt.show()"
   ]
  },
  {
   "cell_type": "markdown",
   "id": "901c539e",
   "metadata": {},
   "source": [
    "##  <font color = \"navy\">  Part 6. Risk. <font color = \"black\">\n"
   ]
  },
  {
   "cell_type": "markdown",
   "id": "df4c9e31",
   "metadata": {},
   "source": [
    "+ For the portfolio selected in the previous part, calculate the VaR and the one-day ES with 99% confidence of your portfolio for the whole simulation period. Analyze the whole data series and conclude about it.  "
   ]
  },
  {
   "cell_type": "code",
   "execution_count": null,
   "id": "ccaf1e3e",
   "metadata": {},
   "outputs": [],
   "source": [
    "conf = 0.99\n",
    "port_returns=df_portfolios[\"Returns_Semivar\"]\n",
    "var = np.percentile(port_returns, (1 - conf)*100)\n",
    "es = np.mean(port_returns[port_returns < var])\n",
    "print(\"El VaR al 99% es:\", np.round(var,5))\n",
    "print(\"El ES al 99% es:\", np.round(es,6))"
   ]
  },
  {
   "cell_type": "markdown",
   "id": "59c1a905",
   "metadata": {},
   "source": [
    "**Respond based on the average volume of each asset over the last 3 months, how many days would it take you to unwind your position in each asset if you sold your entire portfolio?** ** **Respond based on the average volume of each asset over the last 3 months, how many days would it take you to unwind your position in each asset if you sold your entire portfolio?  \n"
   ]
  },
  {
   "cell_type": "markdown",
   "id": "9fc20d0d",
   "metadata": {},
   "source": [
    "+ Calculate the VaR in cash and answer: If your VaR limit is 10% of the value of your portfolio, as a portfolio manager, what would you do to meet the VaR limit, if you are exceeding it or in the future will exceed it? Propose a specific and clear strategy.      "
   ]
  },
  {
   "cell_type": "code",
   "execution_count": null,
   "id": "be640574",
   "metadata": {},
   "outputs": [],
   "source": [
    "port_val = df_portfolios['Portfolio_Value_Semivar'].iloc[-1]\n",
    "var_cash = var*port_val\n",
    "var_cash"
   ]
  },
  {
   "cell_type": "markdown",
   "id": "be371159",
   "metadata": {},
   "source": [
    "    \n",
    "+ Show the correlation matrix of the assets in your portfolio and conclude about the risks and/or benefits you have with the diversification of your portfolio.  \n",
    "    "
   ]
  },
  {
   "cell_type": "code",
   "execution_count": null,
   "id": "7c5cb604",
   "metadata": {},
   "outputs": [],
   "source": [
    "rets_data = df_rts* w_semivar\n",
    "matriz_correlacion = rets_data.corr()\n",
    "matriz_correlacion"
   ]
  },
  {
   "cell_type": "markdown",
   "id": "6f29cfac",
   "metadata": {},
   "source": [
    "    \n",
    "+ What could happen in the following months that could affect the share price? What economic-political factors could pressure the share? Does it have any specific operating risk in the short term?** ** ** Do you have any specific operating risk in the short term?  "
   ]
  },
  {
   "cell_type": "markdown",
   "id": "ee10c9df",
   "metadata": {},
   "source": [
    "##  <font color = \"blue\">EQT Corporation.\n",
    "\n",
    "### Systemic risks:\n",
    "\n",
    "\n",
    "### Economic-political risks:\n",
    "\n",
    "\n",
    "### Short-term operating risk(s):\n",
    "\n"
   ]
  },
  {
   "cell_type": "markdown",
   "id": "99d14a48",
   "metadata": {},
   "source": [
    "##  <font color = \"blue\"> Citizens Financial Group, Inc.\n",
    "\n",
    "\n",
    "### Systemic risks:\n",
    "\n",
    "\n",
    "### Economic-political risks:\n",
    "\n",
    "\n",
    "### Short-term operating risk(s):\n",
    "\n",
    "\n"
   ]
  },
  {
   "cell_type": "markdown",
   "id": "8bb793f9",
   "metadata": {},
   "source": [
    "##  <font color = \"blue\"> Mosaic Company\n",
    "\n",
    "\n",
    "### Systemic risks:\n",
    "\n",
    "\n",
    "### Economic-political risks:\n",
    "\n",
    "\n",
    "### Short-term operating risk(s):\n",
    "\n"
   ]
  },
  {
   "cell_type": "markdown",
   "id": "168b5ac0",
   "metadata": {},
   "source": [
    "##  <font color = \"blue\"> AT&T\n",
    "\n",
    "\n",
    "### Systemic risks:\n",
    "\n",
    "\n",
    "### Economic-political risks:\n",
    "\n",
    "\n",
    "### Short-term operating risk(s):\n",
    "\n"
   ]
  },
  {
   "cell_type": "markdown",
   "id": "f3df5b47",
   "metadata": {},
   "source": [
    "+ Conclusion of the portfolio and project based on the risk and *insights* found in this section.\n",
    "**Expected products: VaR, ES, correlation matrix and research."
   ]
  },
  {
   "cell_type": "markdown",
   "id": "e13af0f2",
   "metadata": {},
   "source": [
    "##  <font color = \"navy\">  Part 7. Presentation. <font color = \"black\">\n"
   ]
  },
  {
   "cell_type": "markdown",
   "id": "0f474db3-4243-47fa-81af-16c5e3415efc",
   "metadata": {
    "collapsed": true,
    "jupyter": {
     "outputs_hidden": true
    }
   },
   "source": [
    "Asset Selection\n",
    "\n",
    "\n",
    "The asset selection methodology was based on the value investing theory, using six parameters, Price to Book, Price to Earnings, Net Margin, Cash Flow / Sales, Debt to Equity and Return on Equity, giving emphasis from highest to lowest in the order mentioned, these metrics were applied to the SP 500 companies, classified by sector and all financial ratios were compared with the same sector.\n",
    "\n",
    "Subsequently, the three best companies in each sector were selected according to their undervaluation by market value versus book or book value. It is sought that most of the metrics have a better performance than their respective peers or otherwise find out why it does not happen and the expectations or possible scenarios for that asset. From the sample of 500 companies, according to the aforementioned criteria the following 4 assets were chosen.\n",
    "\n",
    "Image: Results of selected assets, metrics and comparatives.\n",
    "\n",
    "![image.png](attachment:24726ecd-65bc-4ca1-8730-8658c3f3e7a1.png)![image.png](attachment:6fa9d251-3813-4981-93e1-5d8752ebcce7.png)\n"
   ]
  },
  {
   "cell_type": "markdown",
   "id": "20b24280-0df0-4624-bc04-c714ff38fe04",
   "metadata": {},
   "source": [
    "![Alt Text](data:image/png;base64,iVBORw0KGgoAAAANSUhEUgAABaoAAAH0CAYAAADc0hrzAAAAAXNSR0IArs4c6QAAAARnQU1BAACxjwv8YQUAAAAJcEhZcwAADsMAAA7DAcdvqGQAAP+lSURBVHhe7F0FXBvJ234iuFSgUKPu7u7u7u7udtWru7u31N3dS2mhSPFSo0ILLe6EEEjme2eTQJDa/c++Xp77zZXMzs7OvP7O7s6KSpUqxaCHHnrooYceeuihhx566KGHHnrooYceeuihhx7/EMSaf/XQQw899NBDDz300EMPPfTQQw899NBDDz300OMfwVefqBaJRJq/fk0olakoUaIMTExM4ePzDFKpgebIrwfGGFq1aoe7d28Kf/+qSE1NQYUKlenfVLx86U88lWqO/HqQSCRo2rQV7ty5/svr6r8FXHfMzMxRs2Yd3Lt365eWrz8D3MYWK1YKFhYW8PR0h4HBr21jW7ZsJ8gFYypNrR5/BVJSUlC1ag3Ex8fj3bvXZAt/XT3kOtOwYTPy3dchFks0tb8eOE9r166HL18+Izj44y87V7UPMSMfUo9sxc1f2odwnjZs2BRv3rxEREQYxSm/5nMxnKc5c+ZG+fKV4OBw95f2czzG5nGnl9czxMXF/rKxp0qlQt68+VG4cFE4OT36pXmqVCrRokUbmqcj5PIkfT6RDbgtq1atBsl8HMUcAUL+9avCwMBQsNv/hZijTp36+Pw5iGKOIJrrr+uf/it5K+dpo0ZN8erVS0RGhv+ytozzNFeu3ChXriLFHPd+Sf/E56jFVxeqW7Zsqfnr1wUnBC+/qoHSBQ9GfmXnqgUPMLlx+i8EW/8Vnv7boFIpf+kA7s+E3sbq8VdAb+d/PfyXePpf8SH/FZ7+l/wc5+l/YZ7/LZ7qY9rvQR9z/HrQxxy/HvQxx6+BO3fuaP76xkL169evNX/poYceeuihhx566KGHHnrooYceeuihhx566KHHn4tSpUpp/)"
   ]
  },
  {
   "cell_type": "code",
   "execution_count": 15,
   "id": "7e00b094-f215-45f7-b1e8-6e58dac15b58",
   "metadata": {},
   "outputs": [
    {
     "ename": "SyntaxError",
     "evalue": "unterminated string literal (detected at line 10) (363576323.py, line 10)",
     "output_type": "error",
     "traceback": [
      "\u001b[1;36m  Cell \u001b[1;32mIn[15], line 10\u001b[1;36m\u001b[0m\n\u001b[1;33m    Mission: To responsibly develop, produce and market EQT Corporation's natural resources to create value for its shareholders and society.\u001b[0m\n\u001b[1;37m                                                                       ^\u001b[0m\n\u001b[1;31mSyntaxError\u001b[0m\u001b[1;31m:\u001b[0m unterminated string literal (detected at line 10)\n"
     ]
    }
   ],
   "source": [
    "##  <font color = \"blue\"> EQT Corporation.\n",
    "EQT Corporation is the largest natural gas producer in the United States. It is a leading independent natural gas producer and is engaged in hydrocarbon exploration and pipeline transportation. It is headquartered in EQT Plaza in Pittsburgh, Pennsylvania.\n",
    "\n",
    "It belongs to the energy sector and was selected due to its PB of 1.10, 52% below the sector median, as well as its P/E of 9.17, 23% below its peers. Also, in terms of financial capacity, it has net profit margins of 34%, 118% higher than the industry, a return on equity of 13%, which is lower by 40%, a debt equity ratio of 40%, 33% lower, and finally, a net income margin of 34%, 118% higher than that of the industry, a return on equity of 13%, which is lower by 40%.  \n",
    " 33% below and finally a cash flow to sales ratio of 55%, which is 45% above the industry. In summary, EQT is a leading company in the energy sector, specifically natural gas, which has excellent valuation ratios and is undervalued by the market. It is a company that generates profits. It generates cash flows. It is profitable and does not have a high level of leverage.\n",
    "\n",
    "EQT Corporation Strategy:\n",
    "Vision: To become the world leader in the production of liquefied natural gas (LNG) and chemical products.\n",
    "\n",
    "Mission: To responsibly develop, produce and market EQT Corporation's natural resources to create value for its shareholders and society.\n",
    "\n",
    "Strategic plans:\n",
    "\n",
    "Increase LNG production: EQT Corporation plans to increase its LNG production from 33 million tons per year (mtpa) in 2023 to 50 mtpa in 2027. This will be achieved by expanding its operations in the United States and developing new projects in other countries.\n",
    "\n",
    "Diversify its product portfolio: EQT Corporation also plans to diversify its product portfolio to include more chemicals. This will be achieved by investing in chemical development projects and acquiring chemical companies.\n",
    "\n",
    "Reduce its environmental footprint: EQT Corporation is committed to reducing its environmental footprint. This will be achieved by investing in carbon capture and storage (CCS) and other environmental technologies.\n",
    "\n",
    "Numbers:\n",
    "\n",
    "LNG production: In 2023, EQT Corporation produced 33 mtpa of LNG. The company plans to increase its production to 50 mtpa in 2027.\n",
    "\n",
    "Revenues: In 2023, EQT Corporation generated $27 billion in revenues. The company expects its revenues to increase to $40 billion in 2027.\n",
    "\n",
    "Net earnings: In 2023, EQT Corporation generated $4 billion in net earnings. The company expects its net earnings to increase to $6 billion in 2027.\n",
    "Environmental footprint: In 2023, EQT Corporation emitted 10 million tons of carbon dioxide (CO2). The company is committed to reducing its CO2 emissions to 5 million tons by 2027.\n",
    "\n",
    "Additional resources:\n",
    "\n",
    "EQT Corporation website: https://www.eqt.com/ \n",
    "EQT Corporation 2023 Annual Report: https://eqtgroup.com/news/reports/ \n",
    "\n",
    "Overview\n",
    "\n",
    "\n",
    " \n",
    "\n",
    "Yahoo Finance Analysts Estimate\n",
    " \n",
    "\n",
    "Factset Analysts Estimate\n",
    " \n",
    "Analysts' estimate supports our asset selection decision, with an estimated target price upside of approximately 11%.\n",
    "\n",
    "\n",
    "\n",
    "Future plans: \n",
    "EQT Corp has signed an agreement to buy back its former Equitrans Midstream unit in a deal worth about $5.5 billion in which all shares will be combined, this acquisition seeks to make the first vertically integrated natural gas company, according to its most recent investor relations release (March 11) this synergy is founded on: Unmatched integrated cost structure, drives durable free cash flow generation, transforms the quality of an already category-leading inventory, high free cash flow margins strengthen credit quality, increased short and long-term shareholder financials, low cost structure limits hedging needs, unlocking upside potential, thus creating identified synergies greater than $425 million annually.\n",
    "\n",
    "Additional resources: https://ir.eqt.com/investor-relations/overview/default.aspx \n"
   ]
  },
  {
   "cell_type": "code",
   "execution_count": null,
   "id": "6f59f2df-a9fe-4cac-9878-67f7679c2a8f",
   "metadata": {},
   "outputs": [],
   "source": [
    "##  <font color = \"blue\"> CFG\n",
    "Citizens Financial Group, Inc. offers a full range of commercial banking services. The bank offers consumer loans, commercial loans, mortgage loans, deposit products, Internet banking and trust services. Citizens Financial Group serves customers in the United States.\n",
    "\n",
    "It belongs to the Finance sector. Comparing the sector with the median of the data, in terms of valuation ratios it is largely undervalued with .69 PB which is 66% lower than its peers. In Price vs. Earnings it is valued at 10.6, which is 51% lower than the sector. Its operation generates a net profitability of 13.19%, which is 18% below, however it is still in contact with a healthy and positive net margin sufficient to generate profitability for investors. In terms of return on equity it has 6.7% which implies 36% less, mentioning the level of leverage, according to the debt equity ratio the company when with 61% which is 21% lower than the industry, and finally its cash flow against sales is 21.24% which is 22% lower than its peers. Despite having three metrics that are not the best in its sector. It is assumed that being a company with low leverage, if it chooses to increase it, it would be able to generate this differential in cash flows, earnings and yields.\n",
    "\n",
    "As for CFG's future plans, in his latest Q4 2023 press release Bruce Van Saun, CEO, did not comment on strategies or concrete plans for the bank, he only mentions and details the balance sheet and income statement report, the specific financials of capital plans, which describe strategies for dividends, share repurchases and maintenance of capital reserves. These are positive and maintain Tier 1 liquidity and credit risk improvement, among other data. It is an industry that has undergone many changes and uncertainty in recent years, but in the long term we believe that due to its listing conditions, evaluation and financial soundness it will not be a problem for Citizens Group.\n",
    " \n",
    " \n",
    "\n",
    "According to analysts from both Factset and Yahoo Finance data, the target price is 38.17, 9% above the current price, recommending an Overweight. \n",
    "This together with our sector comparative analysis and strategy based on Value Investing metrics supports the selection decision.\n"
   ]
  },
  {
   "cell_type": "code",
   "execution_count": null,
   "id": "3dd726f4-7c6f-4c0a-a56f-501503f2166f",
   "metadata": {},
   "outputs": [],
   "source": [
    "##  <font color = \"blue\"> MOS\n",
    "Mosaic Company is a world leader in the crop nutrient sector, the only company capable of producing and supplying on a large scale two vital crop nutrients: phosphate and potash. Mosaic is involved in all phases of crop nutrition, from resource extraction to the production of crop nutrients, feed and industrial products for customers around the world.\n",
    "\n",
    "It belongs to the non-energy materials sector, specifically the agricultural fertilizer industry. It trades at a market price to book of .94, 61% lower than its peers in terms of price to earnings at 10.22 which is 60% lower, its net margin is 8.51% so it is on par with the sector median, its 9.57% return on equity is 43% lower than the competition. Its leverage level of 32.5% indicates that the company is not leveraged and in fact is 59% below the median. Finally, the flows generated by its operation against income are 15%, which also places it in the median of the data.\n",
    "\n",
    "Like the CFG asset this 60% of lower leverage. It is a company that is quite undervalued and has attractive expansion plans.\n",
    "\n",
    "\n",
    "Mosaic Company's strategic plans\n",
    "1. Growth through capacity expansion:\n",
    "\n",
    "Invest in expansion of existing potash mines at Esterhazy and K3 in Canada.\n",
    "Develop the Fort Meade phosphate mine in Florida.\n",
    "Expand phosphoric acid production capacity in Brazil.\n",
    "2. Focus on efficiency and productivity:\n",
    "\n",
    "Implement continuous improvement initiatives in all operations.\n",
    "Optimize the supply chain.\n",
    "Reduce production costs.\n",
    "\n",
    "3. New product and market development:\n",
    "\n",
    "Invest in research and development to create new products and solutions.\n",
    "Expand into new emerging markets.\n",
    "Develop new distribution channels.\n",
    "\n",
    "\n",
    "Mosaic Company website: https://www.mosaicco.com/ \n",
    "Mosaic Company Annual Report: https://investors.mosaicco.com/financials/annual-reports/default.aspx \n",
    "Mosaic Company investor presentations: https://investors.mosaicco.com/events-and-presentations/default.aspx\n",
    "\n",
    "\n",
    "\n",
    " \n",
    "\n",
    "As for a more precise comparison of Mosaic's direct competition in North America, from the point of view of valuation, stock performance and margins, we can see that the selected company, despite being a third of the market cap and EV of its most relevant competitor, really has the tools that support an advantage and better conditions in general.\n",
    "\n",
    "As for the opinion of professionals, the recommendation or pattern is between hold and buy, with an average target price of 37.56, almost 17% above the current market price.\n",
    " \n",
    " \n",
    "\n"
   ]
  },
  {
   "cell_type": "code",
   "execution_count": null,
   "id": "59550553-9d3b-4448-82b0-9e79a0672ee9",
   "metadata": {},
   "outputs": [],
   "source": [
    "##  <font color = \"blue\"> T\n",
    " \n",
    "AT&T Inc. operates as a communications holding company. The company, through its subsidiaries and affiliates, provides local and long distance telephone services, wireless and data communications, Internet access and messaging, satellite and IP-based television, telecommunications equipment, and advertising and directory publishing services.\n",
    "\n",
    "It belongs to the telecommunications sector, and is also a leader in it, having a weight of 18% of the companies in the same sector that belong to the SP500, it is valued at 1.16, which favors it by being 45% lower than the competition its P/E of 8.53 is 34% less than the sector. Net margin is 11.76% 11% higher than the others, Return on equity is in line with the median at 14.34% its leverage level is at 153%, which is 12% lower than its peers and finally cash generation capacity against sales is 32.74% 6% higher than the competition. Despite being the most important player in terms of size, sales and assets, we find that it is an undervalued company, for valuation reasons, it is able to generate earnings and cash above the sector, a company that despite being leveraged putting it in context with its peers has room for growth in terms of debt.\n",
    "\n",
    "Telecommunications companies, especially in the U.S. market, have suffered in the last year from news that has severely affected public opinion, although it is a complicated challenge it also presents an opportune moment of entry for new investors at prices below their real value.\n",
    "\n",
    "Communications service providers have large cost burdens and increased responsibilities to deliver reliable connectivity and quality of service. In 2024, their investments may struggle to pay off, and the businesses they once dominated will likely face strong competition from multiple sectors, especially in home broadband. However, they may also have the opportunity to redefine their position in the connectivity ecosystem and strengthen their future position. We believe there is a high opportunity for the Generative AI industry and the competitor that is most able to use this type of technology to its advantage and gain the already damaged consumer and investor confidence. \n",
    "  \n",
    "\n",
    "\n",
    " \n",
    " \n",
    "\n",
    "We can see that AT&T is priced below its comparative value to its strongest competitors, relative to both its ability to generate revenue (EBITDA) and cash (FCF), with superior profitability margins. A volatility of .66, with a target price of 19.77 according to the estimates of 26 brokers reporting on Factset, recommending an overweight stock. Taking into account the Yahoo Finance data we observe that the target price is very similar and is almost 12% above the current one, recommending to buy the asset, these estimates give further support to our investment selection decision and reinforce our analysis.\n",
    "\n",
    "\n",
    "\n",
    "\n",
    "\n",
    "\n",
    "\n",
    "\n"
   ]
  }
 ],
 "metadata": {
  "kernelspec": {
   "display_name": "Python 3 (ipykernel)",
   "language": "python",
   "name": "python3"
  },
  "language_info": {
   "codemirror_mode": {
    "name": "ipython",
    "version": 3
   },
   "file_extension": ".py",
   "mimetype": "text/x-python",
   "name": "python",
   "nbconvert_exporter": "python",
   "pygments_lexer": "ipython3",
   "version": "3.12.7"
  }
 },
 "nbformat": 4,
 "nbformat_minor": 5
}
